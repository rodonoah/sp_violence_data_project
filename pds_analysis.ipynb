{
 "cells": [
  {
   "cell_type": "code",
   "execution_count": 228,
   "metadata": {},
   "outputs": [],
   "source": [
    "import numpy as np\n",
    "import pandas as pd\n",
    "import time\n",
    "from IPython.display import HTML\n",
    "from IPython.display import display\n",
    "from datetime import datetime\n",
    "import matplotlib.pyplot as plt"
   ]
  },
  {
   "cell_type": "code",
   "execution_count": 229,
   "metadata": {},
   "outputs": [],
   "source": [
    "# Reading file and changing column type to int for desired columns\n",
    "df = pd.read_csv('large_df_Apr01202222:09:19.csv')\n",
    "ocurrences_column_names = df.columns.values.tolist()[4:]\n",
    "for column in ocurrences_column_names:\n",
    "    df[column] = pd.to_numeric(df[column], errors='coerce')"
   ]
  },
  {
   "cell_type": "code",
   "execution_count": 230,
   "metadata": {},
   "outputs": [],
   "source": [
    "# Dropping columns containing the number of victims\n",
    "df = df[df.columns.drop(list(df.filter(regex='Nº DE VÍTIMAS')))]"
   ]
  },
  {
   "cell_type": "code",
   "execution_count": 231,
   "metadata": {},
   "outputs": [
    {
     "name": "stdout",
     "output_type": "stream",
     "text": [
      "                            DP                 Coordenadas   Ano  Mes  \\\n",
      "0                  001 DP - Sé  [-23.5569803, -46.6343707]  2022  Jan   \n",
      "1                  001 DP - Sé  [-23.5569803, -46.6343707]  2022  Fev   \n",
      "2                  001 DP - Sé  [-23.5569803, -46.6343707]  2022  Mar   \n",
      "3                  001 DP - Sé  [-23.5569803, -46.6343707]  2022  Abr   \n",
      "4                  001 DP - Sé  [-23.5569803, -46.6343707]  2022  Mai   \n",
      "...                        ...                         ...   ...  ...   \n",
      "24547  103 DP - Cohab Itaquera  [-23.5519944, -46.4370144]  2001  Ago   \n",
      "24548  103 DP - Cohab Itaquera  [-23.5519944, -46.4370144]  2001  Set   \n",
      "24549  103 DP - Cohab Itaquera  [-23.5519944, -46.4370144]  2001  Out   \n",
      "24550  103 DP - Cohab Itaquera  [-23.5519944, -46.4370144]  2001  Nov   \n",
      "24551  103 DP - Cohab Itaquera  [-23.5519944, -46.4370144]  2001  Dez   \n",
      "\n",
      "       HOMICÍDIO DOLOSO (2)  HOMICÍDIO DOLOSO POR ACIDENTE DE TRÂNSITO  \\\n",
      "0                       1.0                                        0.0   \n",
      "1                       0.0                                        0.0   \n",
      "2                       NaN                                        NaN   \n",
      "3                       NaN                                        NaN   \n",
      "4                       NaN                                        NaN   \n",
      "...                     ...                                        ...   \n",
      "24547                   1.0                                        0.0   \n",
      "24548                   1.0                                        0.0   \n",
      "24549                   5.0                                        0.0   \n",
      "24550                   3.0                                        0.0   \n",
      "24551                   6.0                                        0.0   \n",
      "\n",
      "       HOMICÍDIO CULPOSO POR ACIDENTE DE TRÂNSITO  HOMICÍDIO CULPOSO OUTROS  \\\n",
      "0                                             0.0                       0.0   \n",
      "1                                             0.0                       0.0   \n",
      "2                                             NaN                       NaN   \n",
      "3                                             NaN                       NaN   \n",
      "4                                             NaN                       NaN   \n",
      "...                                           ...                       ...   \n",
      "24547                                         0.0                       0.0   \n",
      "24548                                         0.0                       0.0   \n",
      "24549                                         1.0                       0.0   \n",
      "24550                                         0.0                       0.0   \n",
      "24551                                         1.0                       0.0   \n",
      "\n",
      "       TENTATIVA DE HOMICÍDIO  LESÃO CORPORAL SEGUIDA DE MORTE  ...  \\\n",
      "0                         1.0                              0.0  ...   \n",
      "1                         0.0                              0.0  ...   \n",
      "2                         NaN                              NaN  ...   \n",
      "3                         NaN                              NaN  ...   \n",
      "4                         NaN                              NaN  ...   \n",
      "...                       ...                              ...  ...   \n",
      "24547                     2.0                              0.0  ...   \n",
      "24548                     3.0                              0.0  ...   \n",
      "24549                     0.0                              0.0  ...   \n",
      "24550                     2.0                              0.0  ...   \n",
      "24551                     5.0                              0.0  ...   \n",
      "\n",
      "       LESÃO CORPORAL CULPOSA POR ACIDENTE DE TRÂNSITO  \\\n",
      "0                                                  8.0   \n",
      "1                                                  6.0   \n",
      "2                                                  NaN   \n",
      "3                                                  NaN   \n",
      "4                                                  NaN   \n",
      "...                                                ...   \n",
      "24547                                              9.0   \n",
      "24548                                              6.0   \n",
      "24549                                             13.0   \n",
      "24550                                              9.0   \n",
      "24551                                             10.0   \n",
      "\n",
      "       LESÃO CORPORAL CULPOSA - OUTRAS  LATROCÍNIO  TOTAL DE ESTUPRO (4)  \\\n",
      "0                                  0.0         0.0                   1.0   \n",
      "1                                  0.0         0.0                   1.0   \n",
      "2                                  NaN         NaN                   NaN   \n",
      "3                                  NaN         NaN                   NaN   \n",
      "4                                  NaN         NaN                   NaN   \n",
      "...                                ...         ...                   ...   \n",
      "24547                              0.0         0.0                   0.0   \n",
      "24548                              3.0         0.0                   1.0   \n",
      "24549                              1.0         0.0                   1.0   \n",
      "24550                              0.0         0.0                   0.0   \n",
      "24551                              1.0         0.0                   1.0   \n",
      "\n",
      "       TOTAL DE ROUBO - OUTROS (1)  ROUBO DE VEÍCULO  ROUBO A BANCO  \\\n",
      "0                            327.0               3.0            0.0   \n",
      "1                            257.0               0.0            0.0   \n",
      "2                              NaN               NaN            NaN   \n",
      "3                              NaN               NaN            NaN   \n",
      "4                              NaN               NaN            NaN   \n",
      "...                            ...               ...            ...   \n",
      "24547                         75.0              22.0            0.0   \n",
      "24548                         69.0              20.0            0.0   \n",
      "24549                         90.0              22.0            0.0   \n",
      "24550                         68.0              14.0            0.0   \n",
      "24551                         65.0              16.0            0.0   \n",
      "\n",
      "       ROUBO DE CARGA  FURTO - OUTROS  FURTO DE VEÍCULO  \n",
      "0                 4.0           731.0              15.0  \n",
      "1                 5.0           659.0              10.0  \n",
      "2                 NaN             NaN               NaN  \n",
      "3                 NaN             NaN               NaN  \n",
      "4                 NaN             NaN               NaN  \n",
      "...               ...             ...               ...  \n",
      "24547             0.0            67.0              18.0  \n",
      "24548             1.0            56.0              18.0  \n",
      "24549             1.0            82.0              21.0  \n",
      "24550             1.0            70.0              24.0  \n",
      "24551             0.0            64.0              17.0  \n",
      "\n",
      "[24552 rows x 21 columns]\n"
     ]
    }
   ],
   "source": [
    "# Dropping column duplicates\n",
    "df = df.drop(['ESTUPRO DE VULNERÁVEL', 'ESTUPRO', 'ROUBO - OUTROS'], axis=1)\n",
    "print(df)"
   ]
  },
  {
   "cell_type": "code",
   "execution_count": 232,
   "metadata": {},
   "outputs": [],
   "source": [
    "# Save to csv\n",
    "# t = time.localtime()\n",
    "# current_time = time.strftime(\"%b%d%Y%H:%M:%S\", t)\n",
    "# df.to_csv(f'test_{current_time}.csv',encoding='utf-8', index=False, header=True)"
   ]
  },
  {
   "cell_type": "code",
   "execution_count": 233,
   "metadata": {},
   "outputs": [
    {
     "name": "stdout",
     "output_type": "stream",
     "text": [
      "                            DP                 Coordenadas   Ano  Mes  \\\n",
      "0                  001 DP - Sé  [-23.5569803, -46.6343707]  2022  Jan   \n",
      "1                  001 DP - Sé  [-23.5569803, -46.6343707]  2022  Fev   \n",
      "2                  001 DP - Sé  [-23.5569803, -46.6343707]  2022  Mar   \n",
      "3                  001 DP - Sé  [-23.5569803, -46.6343707]  2022  Abr   \n",
      "4                  001 DP - Sé  [-23.5569803, -46.6343707]  2022  Mai   \n",
      "...                        ...                         ...   ...  ...   \n",
      "24547  103 DP - Cohab Itaquera  [-23.5519944, -46.4370144]  2001  Ago   \n",
      "24548  103 DP - Cohab Itaquera  [-23.5519944, -46.4370144]  2001  Set   \n",
      "24549  103 DP - Cohab Itaquera  [-23.5519944, -46.4370144]  2001  Out   \n",
      "24550  103 DP - Cohab Itaquera  [-23.5519944, -46.4370144]  2001  Nov   \n",
      "24551  103 DP - Cohab Itaquera  [-23.5519944, -46.4370144]  2001  Dez   \n",
      "\n",
      "       HOMICÍDIO DOLOSO (2)  HOMICÍDIO DOLOSO POR ACIDENTE DE TRÂNSITO  \\\n",
      "0                       1.0                                        0.0   \n",
      "1                       0.0                                        0.0   \n",
      "2                       NaN                                        NaN   \n",
      "3                       NaN                                        NaN   \n",
      "4                       NaN                                        NaN   \n",
      "...                     ...                                        ...   \n",
      "24547                   1.0                                        0.0   \n",
      "24548                   1.0                                        0.0   \n",
      "24549                   5.0                                        0.0   \n",
      "24550                   3.0                                        0.0   \n",
      "24551                   6.0                                        0.0   \n",
      "\n",
      "       TENTATIVA DE HOMICÍDIO  LESÃO CORPORAL SEGUIDA DE MORTE  \\\n",
      "0                         1.0                              0.0   \n",
      "1                         0.0                              0.0   \n",
      "2                         NaN                              NaN   \n",
      "3                         NaN                              NaN   \n",
      "4                         NaN                              NaN   \n",
      "...                       ...                              ...   \n",
      "24547                     2.0                              0.0   \n",
      "24548                     3.0                              0.0   \n",
      "24549                     0.0                              0.0   \n",
      "24550                     2.0                              0.0   \n",
      "24551                     5.0                              0.0   \n",
      "\n",
      "       LESÃO CORPORAL DOLOSA  LATROCÍNIO  TOTAL DE ESTUPRO (4)  \\\n",
      "0                       23.0         0.0                   1.0   \n",
      "1                       13.0         0.0                   1.0   \n",
      "2                        NaN         NaN                   NaN   \n",
      "3                        NaN         NaN                   NaN   \n",
      "4                        NaN         NaN                   NaN   \n",
      "...                      ...         ...                   ...   \n",
      "24547                   17.0         0.0                   0.0   \n",
      "24548                   17.0         0.0                   1.0   \n",
      "24549                   24.0         0.0                   1.0   \n",
      "24550                   17.0         0.0                   0.0   \n",
      "24551                   13.0         0.0                   1.0   \n",
      "\n",
      "       TOTAL DE ROUBO - OUTROS (1)  ROUBO DE VEÍCULO  ROUBO A BANCO  \\\n",
      "0                            327.0               3.0            0.0   \n",
      "1                            257.0               0.0            0.0   \n",
      "2                              NaN               NaN            NaN   \n",
      "3                              NaN               NaN            NaN   \n",
      "4                              NaN               NaN            NaN   \n",
      "...                            ...               ...            ...   \n",
      "24547                         75.0              22.0            0.0   \n",
      "24548                         69.0              20.0            0.0   \n",
      "24549                         90.0              22.0            0.0   \n",
      "24550                         68.0              14.0            0.0   \n",
      "24551                         65.0              16.0            0.0   \n",
      "\n",
      "       ROUBO DE CARGA  \n",
      "0                 4.0  \n",
      "1                 5.0  \n",
      "2                 NaN  \n",
      "3                 NaN  \n",
      "4                 NaN  \n",
      "...               ...  \n",
      "24547             0.0  \n",
      "24548             1.0  \n",
      "24549             1.0  \n",
      "24550             1.0  \n",
      "24551             0.0  \n",
      "\n",
      "[24552 rows x 15 columns]\n"
     ]
    }
   ],
   "source": [
    "# For \"Crimes violentos\" only drop columns\n",
    "df0 = df[df.columns.drop(list(df.filter(regex='CULPOS')))]\n",
    "df0 = df0[df0.columns.drop(list(df.filter(regex='FURTO')))]\n",
    "print(df0)"
   ]
  },
  {
   "cell_type": "code",
   "execution_count": 234,
   "metadata": {},
   "outputs": [],
   "source": [
    "# Total crimes violentos column\n",
    "df0['Total Crimes Violentos'] = df0.iloc[:, 4:].sum(axis=1)\n",
    "# Grouping total crimes violentos by PD\n",
    "df0 = df0.groupby(['DP', 'Coordenadas', 'Ano'])['Total Crimes Violentos'].sum().reset_index()\n",
    "\n",
    "# Total delitos column\n",
    "df['Total Delitos'] = df.iloc[:, 4:].sum(axis=1)\n",
    "# Grouping total delitos by PD\n",
    "df = df.groupby(['DP', 'Coordenadas', 'Ano'])['Total Delitos'].sum().reset_index()\n",
    "\n",
    "# print(df)"
   ]
  },
  {
   "cell_type": "markdown",
   "metadata": {},
   "source": [
    "### Total crime occurences year by year evolution in Sao Paulo"
   ]
  },
  {
   "cell_type": "code",
   "execution_count": 235,
   "metadata": {},
   "outputs": [
    {
     "name": "stdout",
     "output_type": "stream",
     "text": [
      "      Total Crimes Violentos\n",
      "Ano                         \n",
      "2001                194403.0\n",
      "2002                196158.0\n",
      "2003                207960.0\n",
      "2004                204170.0\n",
      "2005                202188.0\n",
      "2006                188821.0\n",
      "2007                181335.0\n",
      "2008                173918.0\n",
      "2009                195089.0\n",
      "2010                181845.0\n",
      "2011                189824.0\n",
      "2012                201949.0\n",
      "2013                218534.0\n",
      "2014                251282.0\n",
      "2015                230926.0\n",
      "2016                237156.0\n",
      "2017                224850.0\n",
      "2018                199884.0\n",
      "2019                199838.0\n",
      "2020                173837.0\n",
      "2021                176641.0\n",
      "      Total Delitos\n",
      "Ano                \n",
      "2001     387658.000\n",
      "2002     397069.000\n",
      "2003     422864.000\n",
      "2004     435379.000\n",
      "2005     435707.006\n",
      "2006     419856.188\n",
      "2007     396766.017\n",
      "2008     392183.721\n",
      "2009     428037.479\n",
      "2010     416267.393\n",
      "2011     446064.666\n",
      "2012     458919.999\n",
      "2013     481832.273\n",
      "2014     504136.239\n",
      "2015     465969.412\n",
      "2016     478527.602\n",
      "2017     463053.415\n",
      "2018     433328.725\n",
      "2019     450942.584\n",
      "2020     360503.184\n",
      "2021     407138.757\n",
      "      Total Delitos  Total Crimes Violentos\n",
      "Ano                                        \n",
      "2001     387658.000                194403.0\n",
      "2002     397069.000                196158.0\n",
      "2003     422864.000                207960.0\n",
      "2004     435379.000                204170.0\n",
      "2005     435707.006                202188.0\n",
      "2006     419856.188                188821.0\n",
      "2007     396766.017                181335.0\n",
      "2008     392183.721                173918.0\n",
      "2009     428037.479                195089.0\n",
      "2010     416267.393                181845.0\n",
      "2011     446064.666                189824.0\n",
      "2012     458919.999                201949.0\n",
      "2013     481832.273                218534.0\n",
      "2014     504136.239                251282.0\n",
      "2015     465969.412                230926.0\n",
      "2016     478527.602                237156.0\n",
      "2017     463053.415                224850.0\n",
      "2018     433328.725                199884.0\n",
      "2019     450942.584                199838.0\n",
      "2020     360503.184                173837.0\n",
      "2021     407138.757                176641.0\n"
     ]
    },
    {
     "data": {
      "image/png": "[encoded data removed]",
      "text/plain": [
       "<Figure size 1440x864 with 1 Axes>"
      ]
     },
     "metadata": {
      "needs_background": "light"
     },
     "output_type": "display_data"
    }
   ],
   "source": [
    "df0 = df0.groupby(['Ano'])['Total Crimes Violentos'].sum().reset_index()\n",
    "df0 = df0[:-1]\n",
    "df0 = df0.set_index('Ano')\n",
    "print(df0)\n",
    "yint = list(range(0, 1100000, 100000))\n",
    "\n",
    "df1 = df.groupby(['Ano'])['Total Delitos'].sum().reset_index()\n",
    "df1 = df1[:-1]\n",
    "xint = df1['Ano'].to_list()\n",
    "df1=df1.set_index('Ano')\n",
    "print(df1)\n",
    "\n",
    "df3 = df1.join(df0)\n",
    "print(df3)\n",
    "\n",
    "chart = df3.plot(figsize=(20,12), xticks=xint, yticks=yint, ylim=(0,1000000))\n",
    "chart.set_ylabel('Quantidade de delitos')\n",
    "chart.set_xlabel(None)\n",
    "chart.set_facecolor('white')\n",
    "plt.savefig('total_vs_violent_crimes.png')"
   ]
  },
  {
   "cell_type": "markdown",
   "metadata": {},
   "source": [
    "### Total crime occurences police department distribution"
   ]
  },
  {
   "cell_type": "code",
   "execution_count": 236,
   "metadata": {},
   "outputs": [
    {
     "ename": "KeyError",
     "evalue": "'Column not found: Total Ocorrencias'",
     "output_type": "error",
     "traceback": [
      "\u001b[0;31m---------------------------------------------------------------------------\u001b[0m",
      "\u001b[0;31mKeyError\u001b[0m                                  Traceback (most recent call last)",
      "\u001b[1;32m/Users/rodrigodemarchi/Desktop/sp_violence_data_project/pds_analysis.ipynb Cell 11'\u001b[0m in \u001b[0;36m<cell line: 1>\u001b[0;34m()\u001b[0m\n\u001b[0;32m----> <a href='vscode-notebook-cell:/Users/rodrigodemarchi/Desktop/sp_violence_data_project/pds_analysis.ipynb#ch0000009?line=0'>1</a>\u001b[0m df2 \u001b[39m=\u001b[39m df\u001b[39m.\u001b[39;49mgroupby([\u001b[39m'\u001b[39;49m\u001b[39mDP\u001b[39;49m\u001b[39m'\u001b[39;49m])[\u001b[39m'\u001b[39;49m\u001b[39mTotal Ocorrencias\u001b[39;49m\u001b[39m'\u001b[39;49m]\u001b[39m.\u001b[39msum()\u001b[39m.\u001b[39mreset_index()\n\u001b[1;32m      <a href='vscode-notebook-cell:/Users/rodrigodemarchi/Desktop/sp_violence_data_project/pds_analysis.ipynb#ch0000009?line=1'>2</a>\u001b[0m df2[\u001b[39m'\u001b[39m\u001b[39mRank\u001b[39m\u001b[39m'\u001b[39m] \u001b[39m=\u001b[39m df2[\u001b[39m'\u001b[39m\u001b[39mTotal Ocorrencias\u001b[39m\u001b[39m'\u001b[39m]\u001b[39m.\u001b[39mrank(ascending\u001b[39m=\u001b[39m\u001b[39mFalse\u001b[39;00m)\n\u001b[1;32m      <a href='vscode-notebook-cell:/Users/rodrigodemarchi/Desktop/sp_violence_data_project/pds_analysis.ipynb#ch0000009?line=2'>3</a>\u001b[0m df2 \u001b[39m=\u001b[39m df2\u001b[39m.\u001b[39msort_values(by\u001b[39m=\u001b[39m[\u001b[39m'\u001b[39m\u001b[39mRank\u001b[39m\u001b[39m'\u001b[39m])\n",
      "File \u001b[0;32m~/opt/anaconda3/envs/venv1/lib/python3.10/site-packages/pandas/core/groupby/generic.py:1338\u001b[0m, in \u001b[0;36mDataFrameGroupBy.__getitem__\u001b[0;34m(self, key)\u001b[0m\n\u001b[1;32m   <a href='file:///Users/rodrigodemarchi/opt/anaconda3/envs/venv1/lib/python3.10/site-packages/pandas/core/groupby/generic.py?line=1328'>1329</a>\u001b[0m \u001b[39mif\u001b[39;00m \u001b[39misinstance\u001b[39m(key, \u001b[39mtuple\u001b[39m) \u001b[39mand\u001b[39;00m \u001b[39mlen\u001b[39m(key) \u001b[39m>\u001b[39m \u001b[39m1\u001b[39m:\n\u001b[1;32m   <a href='file:///Users/rodrigodemarchi/opt/anaconda3/envs/venv1/lib/python3.10/site-packages/pandas/core/groupby/generic.py?line=1329'>1330</a>\u001b[0m     \u001b[39m# if len == 1, then it becomes a SeriesGroupBy and this is actually\u001b[39;00m\n\u001b[1;32m   <a href='file:///Users/rodrigodemarchi/opt/anaconda3/envs/venv1/lib/python3.10/site-packages/pandas/core/groupby/generic.py?line=1330'>1331</a>\u001b[0m     \u001b[39m# valid syntax, so don't raise warning\u001b[39;00m\n\u001b[1;32m   <a href='file:///Users/rodrigodemarchi/opt/anaconda3/envs/venv1/lib/python3.10/site-packages/pandas/core/groupby/generic.py?line=1331'>1332</a>\u001b[0m     warnings\u001b[39m.\u001b[39mwarn(\n\u001b[1;32m   <a href='file:///Users/rodrigodemarchi/opt/anaconda3/envs/venv1/lib/python3.10/site-packages/pandas/core/groupby/generic.py?line=1332'>1333</a>\u001b[0m         \u001b[39m\"\u001b[39m\u001b[39mIndexing with multiple keys (implicitly converted to a tuple \u001b[39m\u001b[39m\"\u001b[39m\n\u001b[1;32m   <a href='file:///Users/rodrigodemarchi/opt/anaconda3/envs/venv1/lib/python3.10/site-packages/pandas/core/groupby/generic.py?line=1333'>1334</a>\u001b[0m         \u001b[39m\"\u001b[39m\u001b[39mof keys) will be deprecated, use a list instead.\u001b[39m\u001b[39m\"\u001b[39m,\n\u001b[1;32m   <a href='file:///Users/rodrigodemarchi/opt/anaconda3/envs/venv1/lib/python3.10/site-packages/pandas/core/groupby/generic.py?line=1334'>1335</a>\u001b[0m         \u001b[39mFutureWarning\u001b[39;00m,\n\u001b[1;32m   <a href='file:///Users/rodrigodemarchi/opt/anaconda3/envs/venv1/lib/python3.10/site-packages/pandas/core/groupby/generic.py?line=1335'>1336</a>\u001b[0m         stacklevel\u001b[39m=\u001b[39mfind_stack_level(),\n\u001b[1;32m   <a href='file:///Users/rodrigodemarchi/opt/anaconda3/envs/venv1/lib/python3.10/site-packages/pandas/core/groupby/generic.py?line=1336'>1337</a>\u001b[0m     )\n\u001b[0;32m-> <a href='file:///Users/rodrigodemarchi/opt/anaconda3/envs/venv1/lib/python3.10/site-packages/pandas/core/groupby/generic.py?line=1337'>1338</a>\u001b[0m \u001b[39mreturn\u001b[39;00m \u001b[39msuper\u001b[39;49m()\u001b[39m.\u001b[39;49m\u001b[39m__getitem__\u001b[39;49m(key)\n",
      "File \u001b[0;32m~/opt/anaconda3/envs/venv1/lib/python3.10/site-packages/pandas/core/base.py:250\u001b[0m, in \u001b[0;36mSelectionMixin.__getitem__\u001b[0;34m(self, key)\u001b[0m\n\u001b[1;32m    <a href='file:///Users/rodrigodemarchi/opt/anaconda3/envs/venv1/lib/python3.10/site-packages/pandas/core/base.py?line=247'>248</a>\u001b[0m \u001b[39melse\u001b[39;00m:\n\u001b[1;32m    <a href='file:///Users/rodrigodemarchi/opt/anaconda3/envs/venv1/lib/python3.10/site-packages/pandas/core/base.py?line=248'>249</a>\u001b[0m     \u001b[39mif\u001b[39;00m key \u001b[39mnot\u001b[39;00m \u001b[39min\u001b[39;00m \u001b[39mself\u001b[39m\u001b[39m.\u001b[39mobj:\n\u001b[0;32m--> <a href='file:///Users/rodrigodemarchi/opt/anaconda3/envs/venv1/lib/python3.10/site-packages/pandas/core/base.py?line=249'>250</a>\u001b[0m         \u001b[39mraise\u001b[39;00m \u001b[39mKeyError\u001b[39;00m(\u001b[39mf\u001b[39m\u001b[39m\"\u001b[39m\u001b[39mColumn not found: \u001b[39m\u001b[39m{\u001b[39;00mkey\u001b[39m}\u001b[39;00m\u001b[39m\"\u001b[39m)\n\u001b[1;32m    <a href='file:///Users/rodrigodemarchi/opt/anaconda3/envs/venv1/lib/python3.10/site-packages/pandas/core/base.py?line=250'>251</a>\u001b[0m     subset \u001b[39m=\u001b[39m \u001b[39mself\u001b[39m\u001b[39m.\u001b[39mobj[key]\n\u001b[1;32m    <a href='file:///Users/rodrigodemarchi/opt/anaconda3/envs/venv1/lib/python3.10/site-packages/pandas/core/base.py?line=251'>252</a>\u001b[0m     ndim \u001b[39m=\u001b[39m subset\u001b[39m.\u001b[39mndim\n",
      "\u001b[0;31mKeyError\u001b[0m: 'Column not found: Total Ocorrencias'"
     ]
    }
   ],
   "source": [
    "df2 = df.groupby(['DP'])['Total Ocorrencias'].sum().reset_index()\n",
    "df2['Rank'] = df2['Total Ocorrencias'].rank(ascending=False)\n",
    "df2 = df2.sort_values(by=['Rank'])\n",
    "# print(df2)\n",
    "plt.figure(figsize=(20,12),facecolor='white')\n",
    "plt.hist(df2['Total Ocorrencias'])\n",
    "plt.show()"
   ]
  },
  {
   "cell_type": "code",
   "execution_count": null,
   "metadata": {},
   "outputs": [],
   "source": [
    "df = df.pivot_table(index='Ano', columns='DP', values='Total Ocorrencias')\n",
    "df = df[:-1]\n",
    "# print(df)"
   ]
  },
  {
   "cell_type": "markdown",
   "metadata": {},
   "source": [
    "### Total crime occurences year by year evolution partitioned by PD"
   ]
  },
  {
   "cell_type": "code",
   "execution_count": null,
   "metadata": {},
   "outputs": [],
   "source": [
    "df.plot(figsize=(20,12), xticks=xint, ylim=(0,20000)).legend(bbox_to_anchor=(1.0, 1.0))"
   ]
  }
 ],
 "metadata": {
  "interpreter": {
   "hash": "22a77226890923705dd6c09d544cd4715a2957ed996047c59ec6415957114dbd"
  },
  "kernelspec": {
   "display_name": "Python 2",
   "language": "python",
   "name": "python3"
  },
  "language_info": {
   "codemirror_mode": {
    "name": "ipython",
    "version": 3
   },
   "file_extension": ".py",
   "mimetype": "text/x-python",
   "name": "python",
   "nbconvert_exporter": "python",
   "pygments_lexer": "ipython3",
   "version": "3.10.2"
  }
 },
 "nbformat": 4,
 "nbformat_minor": 2
}
