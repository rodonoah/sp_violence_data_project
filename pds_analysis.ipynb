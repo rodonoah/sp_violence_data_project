{
 "cells": [
  {
   "cell_type": "code",
   "execution_count": 1,
   "metadata": {},
   "outputs": [],
   "source": [
    "from scipy import stats\n",
    "import numpy as np\n",
    "import pandas as pd\n",
    "import time\n",
    "from IPython.display import HTML\n",
    "from IPython.display import display\n",
    "from datetime import datetime\n",
    "import matplotlib.pyplot as plt\n",
    "import seaborn as sns\n",
    "from fuzzywuzzy import process"
   ]
  },
  {
   "cell_type": "code",
   "execution_count": 2,
   "metadata": {},
   "outputs": [
    {
     "name": "stdout",
     "output_type": "stream",
     "text": [
      "                 DP  Total Ocorrencias  Rank\n",
      "0       Campo Limpo            97757.0   1.0\n",
      "1     Capão Redondo            93145.0   2.0\n",
      "2    Campos Elísios            90961.0   3.0\n",
      "3        São Mateus            83592.0   4.0\n",
      "4         Jabaquara            82897.0   5.0\n",
      "..              ...                ...   ...\n",
      "88     Vila Formosa            20820.0  89.0\n",
      "89      Vila Carrão            20423.0  90.0\n",
      "90  Parque da Moóca            17385.0  91.0\n",
      "91            Belém            13083.0  92.0\n",
      "92    Alto da Moóca            10945.0  93.0\n",
      "\n",
      "[93 rows x 3 columns]\n",
      "         distrito   area      pop population_density\n",
      "0      Aricanduva   6,60   89.622             13.579\n",
      "1          Carrão   7,50   83.281             11.104\n",
      "2    Vila Formosa   7,40   94.799             12.811\n",
      "3         Butantã  12,50   54.196              4.336\n",
      "4         Morumbi  11,40   46.957              4.119\n",
      "..            ...    ...      ...                ...\n",
      "91          Moema   9,00   83.368              9,263\n",
      "92          Saúde   8,90  130.780             14,694\n",
      "93   Vila Mariana   8,60  130.484             15,173\n",
      "94      São Lucas   9,90  142.347             14,378\n",
      "95  Vila Prudente   9,90  104.242             10,529\n",
      "\n",
      "[96 rows x 4 columns]\n",
      "                 DP  Total Ocorrencias  Rank pop_density\n",
      "0       Campo Limpo            97757.0   1.0      16.513\n",
      "1     Capão Redondo            93145.0   2.0      19.759\n",
      "2    Campos Elísios            90961.0   3.0       7.472\n",
      "3        São Mateus            83592.0   4.0      10.908\n",
      "4         Jabaquara            82897.0   5.0      15.871\n",
      "..              ...                ...   ...         ...\n",
      "88     Vila Formosa            20820.0  89.0      12.811\n",
      "89      Vila Carrão            20423.0  90.0      11.104\n",
      "90  Parque da Moóca            17385.0  91.0       4.432\n",
      "91            Belém            13083.0  92.0       7.510\n",
      "92    Alto da Moóca            10945.0  93.0       9.834\n",
      "\n",
      "[93 rows x 4 columns]\n"
     ]
    }
   ],
   "source": [
    "dfa = pd.read_csv('plotingviolentcrimes_Apr16202219:51:34.csv')\n",
    "dfa['DP'] = dfa['DP'].str[9:]\n",
    "# dfa = dfa.set_index('DP')\n",
    "dfa = dfa.drop(columns=['Group', 'Color', 'Coordenadas'])\n",
    "print(dfa)\n",
    "\n",
    "dfb = pd.read_csv('population_density_spApr26202222:38:17.csv')\n",
    "# dfa = dfa.set_index('Distrito')\n",
    "print(dfb)\n",
    "\n",
    "best_match = lambda x: process.extractOne(x, dfb[\"distrito\"])[2] \n",
    "dfa['pop_density'] = dfb.loc[dfa[\"DP\"].map(best_match).values, 'population_density'].values\n",
    "\n",
    "print(dfa)\n"
   ]
  },
  {
   "cell_type": "code",
   "execution_count": 2,
   "metadata": {},
   "outputs": [
    {
     "name": "stdout",
     "output_type": "stream",
     "text": [
      "                                                         DP  \\\n",
      "Coordenadas                                                   \n",
      "[-23.6329013, -46.77042369999999]      037 DP - Campo Limpo   \n",
      "[-23.6647883, -46.7826795]           047 DP - Capão Redondo   \n",
      "[-23.539323, -46.6397243]           003 DP - Campos Elísios   \n",
      "[-23.6054835, -46.4707403]              049 DP - São Mateus   \n",
      "[-23.639392, -46.6433401]                035 DP - Jabaquara   \n",
      "...                                                     ...   \n",
      "[-23.5624913, -46.5452257]            058 DP - Vila Formosa   \n",
      "[-23.5491687, -46.53722570000001]      031 DP - Vila Carrão   \n",
      "[-23.5689051, -46.5845589]         057 DP - Parque da Moóca   \n",
      "[-23.5352219, -46.5846386]                   081 DP - Belém   \n",
      "[-23.5704719, -46.5916469]           018 DP - Alto da Moóca   \n",
      "\n",
      "                                   Total Ocorrencias  Rank  \n",
      "Coordenadas                                                 \n",
      "[-23.6329013, -46.77042369999999]            97757.0   1.0  \n",
      "[-23.6647883, -46.7826795]                   93145.0   2.0  \n",
      "[-23.539323, -46.6397243]                    90961.0   3.0  \n",
      "[-23.6054835, -46.4707403]                   83592.0   4.0  \n",
      "[-23.639392, -46.6433401]                    82897.0   5.0  \n",
      "...                                              ...   ...  \n",
      "[-23.5624913, -46.5452257]                   20820.0  89.0  \n",
      "[-23.5491687, -46.53722570000001]            20423.0  90.0  \n",
      "[-23.5689051, -46.5845589]                   17385.0  91.0  \n",
      "[-23.5352219, -46.5846386]                   13083.0  92.0  \n",
      "[-23.5704719, -46.5916469]                   10945.0  93.0  \n",
      "\n",
      "[93 rows x 3 columns]\n",
      "                                   mobility_points\n",
      "coordenada_dp                                     \n",
      "[-23.5569803, -46.6343707]                      36\n",
      "[-23.539323, -46.6397243]                       43\n",
      "[-23.6468944, -46.70744670000001]               14\n",
      "[-23.5369322, -46.6653372]                      23\n",
      "[-23.5617968, -46.6912197]                      14\n",
      "...                                            ...\n",
      "[-23.5491687, -46.53722570000001]               11\n",
      "[-23.4691612, -46.6897573]                       3\n",
      "[-23.5202068, -46.41149069999999]                2\n",
      "[-23.5352219, -46.5846386]                      12\n",
      "[-23.5704719, -46.5916469]                      16\n",
      "\n",
      "[93 rows x 1 columns]\n",
      "                                                         DP  \\\n",
      "Coordenadas                                                   \n",
      "[-23.6329013, -46.77042369999999]      037 DP - Campo Limpo   \n",
      "[-23.6647883, -46.7826795]           047 DP - Capão Redondo   \n",
      "[-23.539323, -46.6397243]           003 DP - Campos Elísios   \n",
      "[-23.6054835, -46.4707403]              049 DP - São Mateus   \n",
      "[-23.639392, -46.6433401]                035 DP - Jabaquara   \n",
      "...                                                     ...   \n",
      "[-23.5624913, -46.5452257]            058 DP - Vila Formosa   \n",
      "[-23.5491687, -46.53722570000001]      031 DP - Vila Carrão   \n",
      "[-23.5689051, -46.5845589]         057 DP - Parque da Moóca   \n",
      "[-23.5352219, -46.5846386]                   081 DP - Belém   \n",
      "[-23.5704719, -46.5916469]           018 DP - Alto da Moóca   \n",
      "\n",
      "                                   Total Ocorrencias  Rank  mobility_points  \n",
      "Coordenadas                                                                  \n",
      "[-23.6329013, -46.77042369999999]            97757.0   1.0                4  \n",
      "[-23.6647883, -46.7826795]                   93145.0   2.0                4  \n",
      "[-23.539323, -46.6397243]                    90961.0   3.0               43  \n",
      "[-23.6054835, -46.4707403]                   83592.0   4.0                5  \n",
      "[-23.639392, -46.6433401]                    82897.0   5.0               10  \n",
      "...                                              ...   ...              ...  \n",
      "[-23.5624913, -46.5452257]                   20820.0  89.0                8  \n",
      "[-23.5491687, -46.53722570000001]            20423.0  90.0               11  \n",
      "[-23.5689051, -46.5845589]                   17385.0  91.0               11  \n",
      "[-23.5352219, -46.5846386]                   13083.0  92.0               12  \n",
      "[-23.5704719, -46.5916469]                   10945.0  93.0               16  \n",
      "\n",
      "[93 rows x 4 columns]\n"
     ]
    }
   ],
   "source": [
    "dfa = pd.read_csv('plotingviolentcrimes_Apr16202219:51:34.csv')\n",
    "dfa = dfa.set_index('Coordenadas')\n",
    "dfa = dfa.drop(columns=['Group', 'Color'])\n",
    "print(dfa)\n",
    "\n",
    "dfb = pd.read_csv('/Users/rodrigodemarchi/Desktop/sp_violence_data_project/mobility_points_dps_Apr19202223:59:58.csv')\n",
    "dfb = dfb.set_index('coordenada_dp')\n",
    "print(dfb)\n",
    "\n",
    "dfc = dfa.join(dfb)\n",
    "\n",
    "print(dfc)\n",
    "# ocurrences_column_names = df.columns.values.tolist()[4:]\n",
    "# for column in ocurrences_column_names:\n",
    "#     df[column] = pd.to_numeric(df[column], errors='coerce')"
   ]
  },
  {
   "cell_type": "code",
   "execution_count": 3,
   "metadata": {},
   "outputs": [
    {
     "data": {
      "text/plain": [
       "(0.1972153050906797, 0.05811790056972695)"
      ]
     },
     "execution_count": 3,
     "metadata": {},
     "output_type": "execute_result"
    },
    {
     "data": {
      "image/png": "[encoded data removed]",
      "text/plain": [
       "<Figure size 1440x864 with 1 Axes>"
      ]
     },
     "metadata": {
      "needs_background": "light"
     },
     "output_type": "display_data"
    }
   ],
   "source": [
    "plt.figure(figsize=(20,12))\n",
    "ax = sns.scatterplot(x=\"Total Ocorrencias\", y=\"mobility_points\", data=dfc)\n",
    "# ax.set_title(\"Mobilidade Urbana vs Violencia por Distrito\")\n",
    "ax.set_xlabel(\"Total Crimes Violentos\")\n",
    "ax.set_ylabel(\"Total de pontos de mobilidade\")\n",
    "plt.savefig('corr_mobility_crimes.png')\n",
    "\n",
    "stats.pearsonr(dfc[\"Total Ocorrencias\"], dfc[\"mobility_points\"])"
   ]
  },
  {
   "cell_type": "code",
   "execution_count": 4,
   "metadata": {},
   "outputs": [
    {
     "ename": "AttributeError",
     "evalue": "'FacetGrid' object has no attribute 'set_xlabel'",
     "output_type": "error",
     "traceback": [
      "\u001b[0;31m---------------------------------------------------------------------------\u001b[0m",
      "\u001b[0;31mAttributeError\u001b[0m                            Traceback (most recent call last)",
      "\u001b[1;32m/Users/rodrigodemarchi/Desktop/sp_violence_data_project/pds_analysis.ipynb Cell 4'\u001b[0m in \u001b[0;36m<cell line: 3>\u001b[0;34m()\u001b[0m\n\u001b[1;32m      <a href='vscode-notebook-cell:/Users/rodrigodemarchi/Desktop/sp_violence_data_project/pds_analysis.ipynb#ch0000003?line=0'>1</a>\u001b[0m plt\u001b[39m.\u001b[39mfigure(figsize\u001b[39m=\u001b[39m(\u001b[39m20\u001b[39m,\u001b[39m12\u001b[39m))\n\u001b[1;32m      <a href='vscode-notebook-cell:/Users/rodrigodemarchi/Desktop/sp_violence_data_project/pds_analysis.ipynb#ch0000003?line=1'>2</a>\u001b[0m bx \u001b[39m=\u001b[39m sns\u001b[39m.\u001b[39mlmplot(x\u001b[39m=\u001b[39m\u001b[39m\"\u001b[39m\u001b[39mTotal Ocorrencias\u001b[39m\u001b[39m\"\u001b[39m, y\u001b[39m=\u001b[39m\u001b[39m\"\u001b[39m\u001b[39mmobility_points\u001b[39m\u001b[39m\"\u001b[39m, data\u001b[39m=\u001b[39mdfc, height\u001b[39m=\u001b[39m\u001b[39m16\u001b[39m, aspect\u001b[39m=\u001b[39m\u001b[39m1\u001b[39m)\n\u001b[0;32m----> <a href='vscode-notebook-cell:/Users/rodrigodemarchi/Desktop/sp_violence_data_project/pds_analysis.ipynb#ch0000003?line=2'>3</a>\u001b[0m bx\u001b[39m.\u001b[39;49mset_xlabel(\u001b[39m\"\u001b[39m\u001b[39mTotal Crimes Violentos\u001b[39m\u001b[39m\"\u001b[39m)\n\u001b[1;32m      <a href='vscode-notebook-cell:/Users/rodrigodemarchi/Desktop/sp_violence_data_project/pds_analysis.ipynb#ch0000003?line=3'>4</a>\u001b[0m bx\u001b[39m.\u001b[39mset_ylabel(\u001b[39m\"\u001b[39m\u001b[39mTotal de pontos de mobilidade\u001b[39m\u001b[39m\"\u001b[39m)\n",
      "\u001b[0;31mAttributeError\u001b[0m: 'FacetGrid' object has no attribute 'set_xlabel'"
     ]
    },
    {
     "data": {
      "text/plain": [
       "<Figure size 1440x864 with 0 Axes>"
      ]
     },
     "metadata": {},
     "output_type": "display_data"
    },
    {
     "data": {
      "image/png": "[encoded data removed]",
      "text/plain": [
       "<Figure size 1152x1152 with 1 Axes>"
      ]
     },
     "metadata": {
      "needs_background": "light"
     },
     "output_type": "display_data"
    }
   ],
   "source": [
    "plt.figure(figsize=(20,12))\n",
    "bx = sns.lmplot(x=\"Total Ocorrencias\", y=\"mobility_points\", data=dfc, height=16, aspect=1)\n",
    "bx.set_xlabel(\"Total Crimes Violentos\")\n",
    "bx.set_ylabel(\"Total de pontos de mobilidade\")"
   ]
  },
  {
   "cell_type": "code",
   "execution_count": null,
   "metadata": {},
   "outputs": [],
   "source": [
    "# Reading file and changing column type to int for desired columns\n",
    "df = pd.read_csv('large_df_Apr01202222:09:19.csv')\n",
    "ocurrences_column_names = df.columns.values.tolist()[4:]\n",
    "for column in ocurrences_column_names:\n",
    "    df[column] = pd.to_numeric(df[column], errors='coerce')"
   ]
  },
  {
   "cell_type": "code",
   "execution_count": null,
   "metadata": {},
   "outputs": [],
   "source": [
    "# Dropping columns containing the number of victims\n",
    "df = df[df.columns.drop(list(df.filter(regex='Nº DE VÍTIMAS')))]"
   ]
  },
  {
   "cell_type": "code",
   "execution_count": null,
   "metadata": {},
   "outputs": [
    {
     "name": "stdout",
     "output_type": "stream",
     "text": [
      "                            DP                 Coordenadas   Ano  Mes  \\\n",
      "0                  001 DP - Sé  [-23.5569803, -46.6343707]  2022  Jan   \n",
      "1                  001 DP - Sé  [-23.5569803, -46.6343707]  2022  Fev   \n",
      "2                  001 DP - Sé  [-23.5569803, -46.6343707]  2022  Mar   \n",
      "3                  001 DP - Sé  [-23.5569803, -46.6343707]  2022  Abr   \n",
      "4                  001 DP - Sé  [-23.5569803, -46.6343707]  2022  Mai   \n",
      "...                        ...                         ...   ...  ...   \n",
      "24547  103 DP - Cohab Itaquera  [-23.5519944, -46.4370144]  2001  Ago   \n",
      "24548  103 DP - Cohab Itaquera  [-23.5519944, -46.4370144]  2001  Set   \n",
      "24549  103 DP - Cohab Itaquera  [-23.5519944, -46.4370144]  2001  Out   \n",
      "24550  103 DP - Cohab Itaquera  [-23.5519944, -46.4370144]  2001  Nov   \n",
      "24551  103 DP - Cohab Itaquera  [-23.5519944, -46.4370144]  2001  Dez   \n",
      "\n",
      "       HOMICÍDIO DOLOSO (2)  HOMICÍDIO DOLOSO POR ACIDENTE DE TRÂNSITO  \\\n",
      "0                       1.0                                        0.0   \n",
      "1                       0.0                                        0.0   \n",
      "2                       NaN                                        NaN   \n",
      "3                       NaN                                        NaN   \n",
      "4                       NaN                                        NaN   \n",
      "...                     ...                                        ...   \n",
      "24547                   1.0                                        0.0   \n",
      "24548                   1.0                                        0.0   \n",
      "24549                   5.0                                        0.0   \n",
      "24550                   3.0                                        0.0   \n",
      "24551                   6.0                                        0.0   \n",
      "\n",
      "       HOMICÍDIO CULPOSO POR ACIDENTE DE TRÂNSITO  HOMICÍDIO CULPOSO OUTROS  \\\n",
      "0                                             0.0                       0.0   \n",
      "1                                             0.0                       0.0   \n",
      "2                                             NaN                       NaN   \n",
      "3                                             NaN                       NaN   \n",
      "4                                             NaN                       NaN   \n",
      "...                                           ...                       ...   \n",
      "24547                                         0.0                       0.0   \n",
      "24548                                         0.0                       0.0   \n",
      "24549                                         1.0                       0.0   \n",
      "24550                                         0.0                       0.0   \n",
      "24551                                         1.0                       0.0   \n",
      "\n",
      "       TENTATIVA DE HOMICÍDIO  LESÃO CORPORAL SEGUIDA DE MORTE  ...  \\\n",
      "0                         1.0                              0.0  ...   \n",
      "1                         0.0                              0.0  ...   \n",
      "2                         NaN                              NaN  ...   \n",
      "3                         NaN                              NaN  ...   \n",
      "4                         NaN                              NaN  ...   \n",
      "...                       ...                              ...  ...   \n",
      "24547                     2.0                              0.0  ...   \n",
      "24548                     3.0                              0.0  ...   \n",
      "24549                     0.0                              0.0  ...   \n",
      "24550                     2.0                              0.0  ...   \n",
      "24551                     5.0                              0.0  ...   \n",
      "\n",
      "       LESÃO CORPORAL CULPOSA POR ACIDENTE DE TRÂNSITO  \\\n",
      "0                                                  8.0   \n",
      "1                                                  6.0   \n",
      "2                                                  NaN   \n",
      "3                                                  NaN   \n",
      "4                                                  NaN   \n",
      "...                                                ...   \n",
      "24547                                              9.0   \n",
      "24548                                              6.0   \n",
      "24549                                             13.0   \n",
      "24550                                              9.0   \n",
      "24551                                             10.0   \n",
      "\n",
      "       LESÃO CORPORAL CULPOSA - OUTRAS  LATROCÍNIO  TOTAL DE ESTUPRO (4)  \\\n",
      "0                                  0.0         0.0                   1.0   \n",
      "1                                  0.0         0.0                   1.0   \n",
      "2                                  NaN         NaN                   NaN   \n",
      "3                                  NaN         NaN                   NaN   \n",
      "4                                  NaN         NaN                   NaN   \n",
      "...                                ...         ...                   ...   \n",
      "24547                              0.0         0.0                   0.0   \n",
      "24548                              3.0         0.0                   1.0   \n",
      "24549                              1.0         0.0                   1.0   \n",
      "24550                              0.0         0.0                   0.0   \n",
      "24551                              1.0         0.0                   1.0   \n",
      "\n",
      "       TOTAL DE ROUBO - OUTROS (1)  ROUBO DE VEÍCULO  ROUBO A BANCO  \\\n",
      "0                            327.0               3.0            0.0   \n",
      "1                            257.0               0.0            0.0   \n",
      "2                              NaN               NaN            NaN   \n",
      "3                              NaN               NaN            NaN   \n",
      "4                              NaN               NaN            NaN   \n",
      "...                            ...               ...            ...   \n",
      "24547                         75.0              22.0            0.0   \n",
      "24548                         69.0              20.0            0.0   \n",
      "24549                         90.0              22.0            0.0   \n",
      "24550                         68.0              14.0            0.0   \n",
      "24551                         65.0              16.0            0.0   \n",
      "\n",
      "       ROUBO DE CARGA  FURTO - OUTROS  FURTO DE VEÍCULO  \n",
      "0                 4.0           731.0              15.0  \n",
      "1                 5.0           659.0              10.0  \n",
      "2                 NaN             NaN               NaN  \n",
      "3                 NaN             NaN               NaN  \n",
      "4                 NaN             NaN               NaN  \n",
      "...               ...             ...               ...  \n",
      "24547             0.0            67.0              18.0  \n",
      "24548             1.0            56.0              18.0  \n",
      "24549             1.0            82.0              21.0  \n",
      "24550             1.0            70.0              24.0  \n",
      "24551             0.0            64.0              17.0  \n",
      "\n",
      "[24552 rows x 21 columns]\n"
     ]
    }
   ],
   "source": [
    "# Dropping column duplicates\n",
    "df = df.drop(['ESTUPRO DE VULNERÁVEL', 'ESTUPRO', 'ROUBO - OUTROS'], axis=1)\n",
    "print(df)"
   ]
  },
  {
   "cell_type": "code",
   "execution_count": null,
   "metadata": {},
   "outputs": [],
   "source": [
    "# Save to csv\n",
    "# t = time.localtime()\n",
    "# current_time = time.strftime(\"%b%d%Y%H:%M:%S\", t)\n",
    "# df.to_csv(f'test_{current_time}.csv',encoding='utf-8', index=False, header=True)"
   ]
  },
  {
   "cell_type": "code",
   "execution_count": null,
   "metadata": {},
   "outputs": [
    {
     "name": "stdout",
     "output_type": "stream",
     "text": [
      "                            DP                 Coordenadas   Ano  Mes  \\\n",
      "0                  001 DP - Sé  [-23.5569803, -46.6343707]  2022  Jan   \n",
      "1                  001 DP - Sé  [-23.5569803, -46.6343707]  2022  Fev   \n",
      "2                  001 DP - Sé  [-23.5569803, -46.6343707]  2022  Mar   \n",
      "3                  001 DP - Sé  [-23.5569803, -46.6343707]  2022  Abr   \n",
      "4                  001 DP - Sé  [-23.5569803, -46.6343707]  2022  Mai   \n",
      "...                        ...                         ...   ...  ...   \n",
      "24547  103 DP - Cohab Itaquera  [-23.5519944, -46.4370144]  2001  Ago   \n",
      "24548  103 DP - Cohab Itaquera  [-23.5519944, -46.4370144]  2001  Set   \n",
      "24549  103 DP - Cohab Itaquera  [-23.5519944, -46.4370144]  2001  Out   \n",
      "24550  103 DP - Cohab Itaquera  [-23.5519944, -46.4370144]  2001  Nov   \n",
      "24551  103 DP - Cohab Itaquera  [-23.5519944, -46.4370144]  2001  Dez   \n",
      "\n",
      "       HOMICÍDIO DOLOSO (2)  HOMICÍDIO DOLOSO POR ACIDENTE DE TRÂNSITO  \\\n",
      "0                       1.0                                        0.0   \n",
      "1                       0.0                                        0.0   \n",
      "2                       NaN                                        NaN   \n",
      "3                       NaN                                        NaN   \n",
      "4                       NaN                                        NaN   \n",
      "...                     ...                                        ...   \n",
      "24547                   1.0                                        0.0   \n",
      "24548                   1.0                                        0.0   \n",
      "24549                   5.0                                        0.0   \n",
      "24550                   3.0                                        0.0   \n",
      "24551                   6.0                                        0.0   \n",
      "\n",
      "       TENTATIVA DE HOMICÍDIO  LESÃO CORPORAL SEGUIDA DE MORTE  \\\n",
      "0                         1.0                              0.0   \n",
      "1                         0.0                              0.0   \n",
      "2                         NaN                              NaN   \n",
      "3                         NaN                              NaN   \n",
      "4                         NaN                              NaN   \n",
      "...                       ...                              ...   \n",
      "24547                     2.0                              0.0   \n",
      "24548                     3.0                              0.0   \n",
      "24549                     0.0                              0.0   \n",
      "24550                     2.0                              0.0   \n",
      "24551                     5.0                              0.0   \n",
      "\n",
      "       LESÃO CORPORAL DOLOSA  LATROCÍNIO  TOTAL DE ESTUPRO (4)  \\\n",
      "0                       23.0         0.0                   1.0   \n",
      "1                       13.0         0.0                   1.0   \n",
      "2                        NaN         NaN                   NaN   \n",
      "3                        NaN         NaN                   NaN   \n",
      "4                        NaN         NaN                   NaN   \n",
      "...                      ...         ...                   ...   \n",
      "24547                   17.0         0.0                   0.0   \n",
      "24548                   17.0         0.0                   1.0   \n",
      "24549                   24.0         0.0                   1.0   \n",
      "24550                   17.0         0.0                   0.0   \n",
      "24551                   13.0         0.0                   1.0   \n",
      "\n",
      "       TOTAL DE ROUBO - OUTROS (1)  ROUBO DE VEÍCULO  ROUBO A BANCO  \\\n",
      "0                            327.0               3.0            0.0   \n",
      "1                            257.0               0.0            0.0   \n",
      "2                              NaN               NaN            NaN   \n",
      "3                              NaN               NaN            NaN   \n",
      "4                              NaN               NaN            NaN   \n",
      "...                            ...               ...            ...   \n",
      "24547                         75.0              22.0            0.0   \n",
      "24548                         69.0              20.0            0.0   \n",
      "24549                         90.0              22.0            0.0   \n",
      "24550                         68.0              14.0            0.0   \n",
      "24551                         65.0              16.0            0.0   \n",
      "\n",
      "       ROUBO DE CARGA  \n",
      "0                 4.0  \n",
      "1                 5.0  \n",
      "2                 NaN  \n",
      "3                 NaN  \n",
      "4                 NaN  \n",
      "...               ...  \n",
      "24547             0.0  \n",
      "24548             1.0  \n",
      "24549             1.0  \n",
      "24550             1.0  \n",
      "24551             0.0  \n",
      "\n",
      "[24552 rows x 15 columns]\n"
     ]
    }
   ],
   "source": [
    "# For \"Crimes violentos\" only drop columns\n",
    "df0 = df[df.columns.drop(list(df.filter(regex='CULPOS')))]\n",
    "df0 = df0[df0.columns.drop(list(df.filter(regex='FURTO')))]\n",
    "print(df0)"
   ]
  },
  {
   "cell_type": "code",
   "execution_count": null,
   "metadata": {},
   "outputs": [],
   "source": [
    "# Total crimes violentos column\n",
    "df0['Total Crimes Violentos'] = df0.iloc[:, 4:].sum(axis=1)\n",
    "# Grouping total crimes violentos by PD\n",
    "df0 = df0.groupby(['DP', 'Coordenadas', 'Ano'])['Total Crimes Violentos'].sum().reset_index()\n",
    "\n",
    "# Total delitos column\n",
    "df['Total Delitos'] = df.iloc[:, 4:].sum(axis=1)\n",
    "# Grouping total delitos by PD\n",
    "df = df.groupby(['DP', 'Coordenadas', 'Ano'])['Total Delitos'].sum().reset_index()\n",
    "\n",
    "# print(df)"
   ]
  },
  {
   "cell_type": "markdown",
   "metadata": {},
   "source": [
    "### Total crime occurences year by year evolution in Sao Paulo"
   ]
  },
  {
   "cell_type": "code",
   "execution_count": null,
   "metadata": {},
   "outputs": [
    {
     "name": "stdout",
     "output_type": "stream",
     "text": [
      "      Total Crimes Violentos\n",
      "Ano                         \n",
      "2001                194403.0\n",
      "2002                196158.0\n",
      "2003                207960.0\n",
      "2004                204170.0\n",
      "2005                202188.0\n",
      "2006                188821.0\n",
      "2007                181335.0\n",
      "2008                173918.0\n",
      "2009                195089.0\n",
      "2010                181845.0\n",
      "2011                189824.0\n",
      "2012                201949.0\n",
      "2013                218534.0\n",
      "2014                251282.0\n",
      "2015                230926.0\n",
      "2016                237156.0\n",
      "2017                224850.0\n",
      "2018                199884.0\n",
      "2019                199838.0\n",
      "2020                173837.0\n",
      "2021                176641.0\n",
      "      Total Delitos\n",
      "Ano                \n",
      "2001     387658.000\n",
      "2002     397069.000\n",
      "2003     422864.000\n",
      "2004     435379.000\n",
      "2005     435707.006\n",
      "2006     419856.188\n",
      "2007     396766.017\n",
      "2008     392183.721\n",
      "2009     428037.479\n",
      "2010     416267.393\n",
      "2011     446064.666\n",
      "2012     458919.999\n",
      "2013     481832.273\n",
      "2014     504136.239\n",
      "2015     465969.412\n",
      "2016     478527.602\n",
      "2017     463053.415\n",
      "2018     433328.725\n",
      "2019     450942.584\n",
      "2020     360503.184\n",
      "2021     407138.757\n",
      "      Total Delitos  Total Crimes Violentos\n",
      "Ano                                        \n",
      "2001     387658.000                194403.0\n",
      "2002     397069.000                196158.0\n",
      "2003     422864.000                207960.0\n",
      "2004     435379.000                204170.0\n",
      "2005     435707.006                202188.0\n",
      "2006     419856.188                188821.0\n",
      "2007     396766.017                181335.0\n",
      "2008     392183.721                173918.0\n",
      "2009     428037.479                195089.0\n",
      "2010     416267.393                181845.0\n",
      "2011     446064.666                189824.0\n",
      "2012     458919.999                201949.0\n",
      "2013     481832.273                218534.0\n",
      "2014     504136.239                251282.0\n",
      "2015     465969.412                230926.0\n",
      "2016     478527.602                237156.0\n",
      "2017     463053.415                224850.0\n",
      "2018     433328.725                199884.0\n",
      "2019     450942.584                199838.0\n",
      "2020     360503.184                173837.0\n",
      "2021     407138.757                176641.0\n"
     ]
    },
    {
     "data": {
      "image/png": "[encoded data removed]",
      "text/plain": [
       "<Figure size 1440x864 with 1 Axes>"
      ]
     },
     "metadata": {
      "needs_background": "light"
     },
     "output_type": "display_data"
    }
   ],
   "source": [
    "df0 = df0.groupby(['Ano'])['Total Crimes Violentos'].sum().reset_index()\n",
    "df0 = df0[:-1]\n",
    "df0 = df0.set_index('Ano')\n",
    "print(df0)\n",
    "yint = list(range(0, 1100000, 100000))\n",
    "\n",
    "df1 = df.groupby(['Ano'])['Total Delitos'].sum().reset_index()\n",
    "df1 = df1[:-1]\n",
    "xint = df1['Ano'].to_list()\n",
    "df1=df1.set_index('Ano')\n",
    "print(df1)\n",
    "\n",
    "df3 = df1.join(df0)\n",
    "print(df3)\n",
    "\n",
    "chart = df3.plot(figsize=(20,12), xticks=xint, yticks=yint, ylim=(0,1000000))\n",
    "chart.set_ylabel('Quantidade de delitos')\n",
    "chart.set_xlabel(None)\n",
    "chart.set_facecolor('white')\n",
    "plt.savefig('total_vs_violent_crimes.png')"
   ]
  },
  {
   "cell_type": "markdown",
   "metadata": {},
   "source": [
    "### Total crime occurences police department distribution"
   ]
  },
  {
   "cell_type": "code",
   "execution_count": null,
   "metadata": {},
   "outputs": [
    {
     "ename": "NameError",
     "evalue": "name 'df' is not defined",
     "output_type": "error",
     "traceback": [
      "\u001b[0;31m---------------------------------------------------------------------------\u001b[0m",
      "\u001b[0;31mNameError\u001b[0m                                 Traceback (most recent call last)",
      "\u001b[1;32m/Users/rodrigodemarchi/Desktop/sp_violence_data_project/pds_analysis.ipynb Cell 11'\u001b[0m in \u001b[0;36m<cell line: 1>\u001b[0;34m()\u001b[0m\n\u001b[0;32m----> <a href='vscode-notebook-cell:/Users/rodrigodemarchi/Desktop/sp_violence_data_project/pds_analysis.ipynb#ch0000010?line=0'>1</a>\u001b[0m df2 \u001b[39m=\u001b[39m df\u001b[39m.\u001b[39mgroupby([\u001b[39m'\u001b[39m\u001b[39mDP\u001b[39m\u001b[39m'\u001b[39m])[\u001b[39m'\u001b[39m\u001b[39mTotal Delitos\u001b[39m\u001b[39m'\u001b[39m]\u001b[39m.\u001b[39msum()\u001b[39m.\u001b[39mreset_index()\n\u001b[1;32m      <a href='vscode-notebook-cell:/Users/rodrigodemarchi/Desktop/sp_violence_data_project/pds_analysis.ipynb#ch0000010?line=1'>2</a>\u001b[0m df2[\u001b[39m'\u001b[39m\u001b[39mRank\u001b[39m\u001b[39m'\u001b[39m] \u001b[39m=\u001b[39m df2[\u001b[39m'\u001b[39m\u001b[39mTotal Delitos\u001b[39m\u001b[39m'\u001b[39m]\u001b[39m.\u001b[39mrank(ascending\u001b[39m=\u001b[39m\u001b[39mFalse\u001b[39;00m)\n\u001b[1;32m      <a href='vscode-notebook-cell:/Users/rodrigodemarchi/Desktop/sp_violence_data_project/pds_analysis.ipynb#ch0000010?line=2'>3</a>\u001b[0m df2 \u001b[39m=\u001b[39m df2\u001b[39m.\u001b[39msort_values(by\u001b[39m=\u001b[39m[\u001b[39m'\u001b[39m\u001b[39mRank\u001b[39m\u001b[39m'\u001b[39m])\n",
      "\u001b[0;31mNameError\u001b[0m: name 'df' is not defined"
     ]
    }
   ],
   "source": [
    "df2 = df.groupby(['DP'])['Total Delitos'].sum().reset_index()\n",
    "df2['Rank'] = df2['Total Delitos'].rank(ascending=False)\n",
    "df2 = df2.sort_values(by=['Rank'])\n",
    "# print(df2)\n",
    "plt.figure(figsize=(20,12),facecolor='white')\n",
    "plt.hist(df2['Total Delitos'])\n",
    "plt.show()"
   ]
  },
  {
   "cell_type": "code",
   "execution_count": null,
   "metadata": {},
   "outputs": [],
   "source": [
    "df = df.pivot_table(index='Ano', columns='DP', values='Total Ocorrencias')\n",
    "df = df[:-1]\n",
    "# print(df)"
   ]
  },
  {
   "cell_type": "markdown",
   "metadata": {},
   "source": [
    "### Total crime occurences year by year evolution partitioned by PD"
   ]
  },
  {
   "cell_type": "code",
   "execution_count": null,
   "metadata": {},
   "outputs": [],
   "source": [
    "df.plot(figsize=(20,12), xticks=xint, ylim=(0,20000)).legend(bbox_to_anchor=(1.0, 1.0))"
   ]
  }
 ],
 "metadata": {
  "interpreter": {
   "hash": "22a77226890923705dd6c09d544cd4715a2957ed996047c59ec6415957114dbd"
  },
  "kernelspec": {
   "display_name": "Python 2",
   "language": "python",
   "name": "python3"
  },
  "language_info": {
   "codemirror_mode": {
    "name": "ipython",
    "version": 3
   },
   "file_extension": ".py",
   "mimetype": "text/x-python",
   "name": "python",
   "nbconvert_exporter": "python",
   "pygments_lexer": "ipython3",
   "version": "3.10.2"
  }
 },
 "nbformat": 4,
 "nbformat_minor": 2
}
