{
 "cells": [
  {
   "cell_type": "code",
   "execution_count": null,
   "metadata": {},
   "outputs": [],
   "source": [
    "import numpy as np\n",
    "import gmplot\n",
    "import pandas as pd\n",
    "import time\n",
    "from IPython.display import HTML\n",
    "from IPython.display import display\n",
    "from datetime import datetime\n",
    "import matplotlib.pyplot as plt"
   ]
  },
  {
   "cell_type": "code",
   "execution_count": null,
   "metadata": {},
   "outputs": [],
   "source": [
    "# Reading file and changing column type to int for desired columns\n",
    "df = pd.read_csv('large_df_Apr01202222:09:19.csv')\n",
    "ocurrences_column_names = df.columns.values.tolist()[4:]\n",
    "for column in ocurrences_column_names:\n",
    "    df[column] = pd.to_numeric(df[column], errors='coerce')"
   ]
  },
  {
   "cell_type": "code",
   "execution_count": null,
   "metadata": {},
   "outputs": [],
   "source": [
    "# Dropping columns containing the number of victims\n",
    "df = df[df.columns.drop(list(df.filter(regex='Nº DE VÍTIMAS')))]\n",
    "print(df)"
   ]
  },
  {
   "cell_type": "code",
   "execution_count": null,
   "metadata": {},
   "outputs": [],
   "source": [
    "# Dropping column duplicates\n",
    "df = df.drop(['ESTUPRO DE VULNERÁVEL', 'ESTUPRO', 'ROUBO - OUTROS'], axis=1)\n",
    "print(df)"
   ]
  },
  {
   "cell_type": "code",
   "execution_count": null,
   "metadata": {},
   "outputs": [],
   "source": [
    "# Save to csv\n",
    "t = time.localtime()\n",
    "current_time = time.strftime(\"%b%d%Y%H:%M:%S\", t)\n",
    "df.to_csv(f'test_{current_time}.csv',encoding='utf-8', index=False, header=True)"
   ]
  },
  {
   "cell_type": "code",
   "execution_count": null,
   "metadata": {},
   "outputs": [],
   "source": [
    "# Total crime ocurrences column\n",
    "df['Total Ocorrencias'] = df.iloc[:, 4:].sum(axis=1)\n",
    "\n",
    "# Grouping total ocurrences by PD\n",
    "df = df.groupby(['DP', 'Coordenadas', 'Ano'])['Total Ocorrencias'].sum().reset_index()\n",
    "\n",
    "print(df)"
   ]
  },
  {
   "cell_type": "markdown",
   "metadata": {},
   "source": [
    "### Total crime occurences year by year evolution in Sao Paulo"
   ]
  },
  {
   "cell_type": "code",
   "execution_count": null,
   "metadata": {},
   "outputs": [],
   "source": [
    "df1 = df.groupby(['Ano'])['Total Ocorrencias'].sum().reset_index()\n",
    "df1 = df1[:-1]\n",
    "xint = df['Ano'].to_list()\n",
    "df1=df1.set_index('Ano')\n",
    "# print(df1)\n",
    "df1.plot(figsize=(20,12), xticks=xint, ylim=(0,1000000))"
   ]
  },
  {
   "cell_type": "markdown",
   "metadata": {},
   "source": [
    "### Total crime occurences police department distribution"
   ]
  },
  {
   "cell_type": "code",
   "execution_count": null,
   "metadata": {},
   "outputs": [],
   "source": [
    "df2 = df.groupby(['DP'])['Total Ocorrencias'].sum().reset_index()\n",
    "df2['Rank'] = df2['Total Ocorrencias'].rank(ascending=False)\n",
    "df2 = df2.sort_values(by=['Rank'])\n",
    "# print(df2)\n",
    "plt.figure(figsize=(20,12),facecolor='white')\n",
    "plt.hist(df2['Total Ocorrencias'])\n",
    "plt.show()"
   ]
  },
  {
   "cell_type": "code",
   "execution_count": null,
   "metadata": {},
   "outputs": [],
   "source": [
    "df = df.pivot_table(index='Ano', columns='DP', values='Total Ocorrencias')\n",
    "df = df[:-1]\n",
    "# print(df)"
   ]
  },
  {
   "cell_type": "markdown",
   "metadata": {},
   "source": [
    "### Total crime occurences year by year evolution partitioned by PD"
   ]
  },
  {
   "cell_type": "code",
   "execution_count": null,
   "metadata": {},
   "outputs": [],
   "source": [
    "df.plot(figsize=(20,12), xticks=xint, ylim=(0,20000)).legend(bbox_to_anchor=(1.0, 1.0))"
   ]
  }
 ],
 "metadata": {
  "interpreter": {
   "hash": "22a77226890923705dd6c09d544cd4715a2957ed996047c59ec6415957114dbd"
  },
  "kernelspec": {
   "display_name": "Python 2",
   "language": "python",
   "name": "python2"
  },
  "language_info": {
   "codemirror_mode": {
    "name": "ipython",
    "version": 2
   },
   "file_extension": ".py",
   "mimetype": "text/x-python",
   "name": "python",
   "nbconvert_exporter": "python",
   "pygments_lexer": "ipython2",
   "version": "2.7.18"
  }
 },
 "nbformat": 4,
 "nbformat_minor": 2
}
